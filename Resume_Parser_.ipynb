{
  "nbformat": 4,
  "nbformat_minor": 0,
  "metadata": {
    "colab": {
      "provenance": []
    },
    "kernelspec": {
      "name": "python3",
      "display_name": "Python 3"
    },
    "language_info": {
      "name": "python"
    }
  },
  "cells": [
    {
      "cell_type": "code",
      "source": [
        "import pandas as pd\n",
        "import nltk\n",
        "from nltk.corpus import stopwords\n",
        "from sklearn.feature_extraction.text import CountVectorizer\n",
        "\n",
        "nltk.download('stopwords')\n",
        "nltk.download('punkt_tab')\n",
        "\n",
        "def preprocess_text(text):\n",
        "    text = text.replace('â¢', '').replace('\\r\\n', ' ').replace('\\n', ' ').strip()\n",
        "\n",
        "    text = text.lower()\n",
        "\n",
        "    tokens = nltk.word_tokenize(text)\n",
        "    tokens = [word for word in tokens if word.isalnum()]\n",
        "    tokens = [word for word in tokens if word not in stopwords.words('english')]\n",
        "    return ' '.join(tokens)\n",
        "\n",
        "df = pd.read_csv(\"ResumeDataSet.csv\")\n",
        "df['Processed_Resume'] = df['Resume'].apply(preprocess_text)\n",
        "\n",
        "\n",
        "print(df.columns)\n",
        "print(df['Resume'].head())"
      ],
      "metadata": {
        "colab": {
          "base_uri": "https://localhost:8080/"
        },
        "id": "2AGrjGBOevS7",
        "outputId": "29346288-9f16-4b9b-d1fb-e1cb93f7505f"
      },
      "execution_count": 36,
      "outputs": [
        {
          "output_type": "stream",
          "name": "stderr",
          "text": [
            "[nltk_data] Downloading package stopwords to /root/nltk_data...\n",
            "[nltk_data]   Package stopwords is already up-to-date!\n",
            "[nltk_data] Downloading package punkt_tab to /root/nltk_data...\n",
            "[nltk_data]   Unzipping tokenizers/punkt_tab.zip.\n"
          ]
        },
        {
          "output_type": "stream",
          "name": "stdout",
          "text": [
            "Index(['Category', 'Resume', 'Processed_Resume'], dtype='object')\n",
            "0    Skills * Programming Languages: Python (pandas...\n",
            "1    Education Details \\r\\nMay 2013 to May 2017 B.E...\n",
            "2    Areas of Interest Deep Learning, Control Syste...\n",
            "3    Skills â¢ R â¢ Python â¢ SAP HANA â¢ Table...\n",
            "4    Education Details \\r\\n MCA   YMCAUST,  Faridab...\n",
            "Name: Resume, dtype: object\n"
          ]
        }
      ]
    },
    {
      "cell_type": "code",
      "source": [
        "# Vectorizing the 'Processed_Resume' text for analysis (optional)\n",
        "vectorizer = CountVectorizer()\n",
        "X = vectorizer.fit_transform(df['Processed_Resume'])\n"
      ],
      "metadata": {
        "id": "WoXXv7PqqaMo"
      },
      "execution_count": 37,
      "outputs": []
    },
    {
      "cell_type": "code",
      "source": [
        "# Displaying a few words from the matrix\n",
        "print(\"Resume Matrix (Sparse Matrix):\")\n",
        "print(X.toarray())"
      ],
      "metadata": {
        "colab": {
          "base_uri": "https://localhost:8080/"
        },
        "id": "35M3D865qcYU",
        "outputId": "548f3557-1f62-402f-b9b8-d25707a7ef78"
      },
      "execution_count": 38,
      "outputs": [
        {
          "output_type": "stream",
          "name": "stdout",
          "text": [
            "Resume Matrix (Sparse Matrix):\n",
            "[[0 0 0 ... 0 0 0]\n",
            " [0 0 0 ... 0 0 0]\n",
            " [0 0 0 ... 0 0 0]\n",
            " ...\n",
            " [0 0 0 ... 0 0 0]\n",
            " [0 0 0 ... 0 0 0]\n",
            " [0 0 0 ... 0 0 0]]\n"
          ]
        }
      ]
    },
    {
      "cell_type": "code",
      "source": [
        "df.to_csv(\"Processed_Resumes.csv\", index=False)\n"
      ],
      "metadata": {
        "id": "Db0YicOWsBV2"
      },
      "execution_count": 39,
      "outputs": []
    }
  ]
}